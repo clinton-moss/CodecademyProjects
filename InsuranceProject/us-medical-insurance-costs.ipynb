{
 "cells": [
  {
   "cell_type": "markdown",
   "metadata": {},
   "source": [
    "# U.S. Medical Insurance Costs"
   ]
  },
  {
   "cell_type": "code",
   "execution_count": 355,
   "metadata": {},
   "outputs": [
    {
     "name": "stdout",
     "output_type": "stream",
     "text": [
      "age,sex,bmi,children,smoker,region,charges\n",
      "\n"
     ]
    }
   ],
   "source": [
    "# Open dataset\n",
    "with open('insurance.csv') as insurance_file:\n",
    "    # Read the first line to have a look at what data\n",
    "    # is available to us\n",
    "    print(insurance_file.readline())\n",
    "    # age,sex,bmi,children,smoker,region,charges"
   ]
  },
  {
   "cell_type": "markdown",
   "metadata": {},
   "source": [
    "# Project objectives and scope\n",
    "## Objectives\n",
    "Try find something interesting in the dataset\n",
    "\n",
    "As I'm not really sure what could be interesting in the dataset just yet, I'm going to pull some general metrics to see if there is some anomaly that stands out\n",
    "\n",
    "## Path\n",
    "- Open the data file\n",
    "- Extract entries into a dictionary\n",
    "- Process calculations into functions\n",
    "  - Average cost of insurance\n",
    "  - Average cost based on gender\n",
    "  - Total cost based on age range 0 -20, 20 -30, 30 - 40, 40 - 50, 50+\n",
    "  - Regions with the highest insurance costs\n",
    "  - Average cost saving if no longer smoking\n",
    "- Write up a meaningful report on findings"
   ]
  },
  {
   "cell_type": "code",
   "execution_count": 356,
   "metadata": {},
   "outputs": [],
   "source": [
    "# Plan of action for data to be extracted\n",
    "\n",
    "total_entries = 0\n",
    "total_charges = 0\n",
    "gender_charges = {\n",
    "    \"male\":0,\n",
    "    \"female\":0\n",
    "}\n",
    "age_charges = {}\n",
    "region_charges = {}\n",
    "smokes_vs_non_charges = {\n",
    "    \"yes\":0,\n",
    "    \"no\":0\n",
    "}\n",
    "\n",
    "# Plan of action for calculating results\n",
    "\n",
    "def avgInsuranceCost(total_entries, total_insurance_cost):\n",
    "    return total_insurance_cost / total_entries\n",
    "\n",
    "def avgInsuranceCostByGender(gender_charges,total_entries):\n",
    "    # key (Gender) += value + charges\n",
    "    return {\n",
    "        \"male\": gender_charges[\"male\"] / total_entries,\n",
    "        \"female\": gender_charges[\"female\"] / total_entries,\n",
    "    }\n",
    "def totalInsuranceCostByAgeRange(age_charges):\n",
    "\n",
    "    ranges = {\n",
    "        \"0 - 19\": 0,\n",
    "        \"20 - 29\": 0,\n",
    "        \"30 - 39\": 0,\n",
    "        \"40 - 49\": 0,\n",
    "        \"50+\": 0,\n",
    "    }\n",
    "    for age in age_charges:\n",
    "        if(age > 0 and age <= 19): ranges[\"0 - 19\"] += age_charges[age]\n",
    "        elif(age > 20 and age <= 29): ranges[\"20 - 29\"] += age_charges[age]\n",
    "        elif(age > 30 and age <= 39): ranges[\"30 - 39\"] += age_charges[age]\n",
    "        elif(age > 40 and age <= 49): ranges[\"40 - 49\"] += age_charges[age]\n",
    "        else: ranges[\"50+\"] += age_charges[age]\n",
    "    return ranges\n",
    "def highestInsuranceRegion(region_charges):\n",
    "    max = 0\n",
    "    region = 0\n",
    "    for key,value in region_charges.items():\n",
    "        if(value > max):\n",
    "            max = value\n",
    "            region = key\n",
    "    return {\n",
    "        \"region\" : region,\n",
    "        \"insurance_cost\": max\n",
    "    }\n",
    "\n",
    "def avgSavingIfStopSmoking(smokes_vs_non_charges, total_entries):\n",
    "    return (smokes_vs_non_charges[\"yes\"] - smokes_vs_non_charges[\"no\"]) / total_entries\n"
   ]
  },
  {
   "cell_type": "code",
   "execution_count": 357,
   "metadata": {},
   "outputs": [],
   "source": [
    "# Open dataset\n",
    "import csv\n",
    "# Adding the fields we want to calculate here just as a reminder\n",
    "# so we don't need to keep scrolling up and down\n",
    "# total_entries = 0\n",
    "# total_charges = 0\n",
    "# gender_charges = {}\n",
    "# age_charges = {}\n",
    "# region_charges = {}\n",
    "# smokes_vs_non_charges = {}\n",
    "\n",
    "with open('insurance.csv') as insurance_file:\n",
    "    # Read the first line to have a look at what data\n",
    "    # is available to us\n",
    "    #print(insurance_file.readline())\n",
    "    insurance_data = csv.DictReader(insurance_file)\n",
    "    # age,sex,bmi,children,smoker,region,charges\n",
    "    # Going to pre-calculate and store data we actually need\n",
    "    # While looping through file in order to\n",
    "    # optimize resource usage\n",
    "    for entry in insurance_data:\n",
    "        total_entries += 1\n",
    "        charges = float(entry[\"charges\"])\n",
    "        total_charges += charges\n",
    "        gender_charges[entry[\"sex\"]] += charges\n",
    "        age = int(entry[\"age\"])\n",
    "        if age not in age_charges:\n",
    "            age_charges[age] = charges\n",
    "        else:\n",
    "            age_charges[age] += charges\n",
    "        if entry[\"region\"] not in region_charges:\n",
    "            region_charges[entry[\"region\"]] = charges\n",
    "        else:\n",
    "            region_charges[entry[\"region\"]] += charges\n",
    "        smokes_vs_non_charges[entry[\"smoker\"]] += charges"
   ]
  },
  {
   "cell_type": "code",
   "execution_count": 358,
   "metadata": {},
   "outputs": [
    {
     "name": "stdout",
     "output_type": "stream",
     "text": [
      "The average insurance cost is 13270.42 from total charges of 17755824.99 in a sample of 1338 people\n",
      "The average cost of insurance per gender is male : 7051.39 female: 6219.03\n",
      "Total cost per age range 0 - 19 is 1151806.85\n",
      "Total cost per age range 20 - 29 is 2382659.05\n",
      "Total cost per age range 30 - 39 is 2673451.54\n",
      "Total cost per age range 40 - 49 is 3699527.01\n",
      "Total cost per age range 50+ is 7848380.55\n",
      "The region with the highest paying insurance is southeast who paid a total of 5363689.76 \n",
      "On average smokers where paying -143.72 more then non smokers in our sample data\n"
     ]
    }
   ],
   "source": [
    "# Now we calculate and print out our meaningful data\n",
    "\n",
    "print(\"The average insurance cost is {} from total charges of {} in a sample of {} people\".format(round(avgInsuranceCost(total_entries, total_charges),2), round(total_charges,2), total_entries))\n",
    "\n",
    "average_per_gender = avgInsuranceCostByGender(gender_charges, total_entries)\n",
    "print(\"The average cost of insurance per gender is male : {} female: {}\".format(round(average_per_gender[\"male\"],2),round(average_per_gender[\"female\"],2)))\n",
    "\n",
    "charges_by_age_group = totalInsuranceCostByAgeRange(age_charges)\n",
    "for key,value in charges_by_age_group.items():\n",
    "    print(\"Total cost per age range {} is {}\".format(key,round(value,2)))\n",
    "\n",
    "highestRegion = highestInsuranceRegion(region_charges)\n",
    "print(\"The region with the highest paying insurance is {} who paid a total of {} \".format(highestRegion[\"region\"],round(highestRegion[\"insurance_cost\"],2)))\n",
    "\n",
    "print(\"On average smokers where paying {} more then non smokers in our sample data\".format(round(avgSavingIfStopSmoking(smokes_vs_non_charges, total_entries),2)))"
   ]
  },
  {
   "cell_type": "markdown",
   "metadata": {},
   "source": [
    "# Expanding on our findings\n",
    "Based on our investigation, one would have expected smokers to have been paying more on insure then non smokers\n",
    "\n",
    "We will expand on our investigation by including other metrics in our dataset against smoking vs non"
   ]
  },
  {
   "cell_type": "code",
   "execution_count": 359,
   "metadata": {},
   "outputs": [],
   "source": [
    "entries_charges = []\n",
    "entries_smoking_vs_non = []\n",
    "# Age range smoke vs non\n",
    "ages_by_entry = []\n",
    "# Genders smoking vs non\n",
    "gender_by_entry = []\n",
    "# Has children smoking vs non\n",
    "# Going to keep the number of children for now\n",
    "# instead of translating this into True / False\n",
    "# Because the number of children may also show us\n",
    "# some other unexpected insights\n",
    "no_children_by_entry = []\n",
    "\n",
    "def genderSmokingVsNon(entries_smoking_vs_non,gender_by_entry,entries_charges):\n",
    "    byGender = list(zip(gender_by_entry,entries_smoking_vs_non,entries_charges))\n",
    "    byGenderCount = {\n",
    "        \"male\":{\n",
    "            \"yes\":0,\n",
    "            \"no\":0,\n",
    "        },\n",
    "        \"female\":{\n",
    "            \"yes\":0,\n",
    "            \"no\":0,\n",
    "        }\n",
    "    }\n",
    "    for entry in byGender:\n",
    "        byGenderCount[entry[0]][entry[1]] += entry[2]\n",
    "    return byGenderCount\n",
    "\n",
    "def withChildrenSmokingVsNon(entries_smoking_vs_non,no_children_by_entry,entries_charges):\n",
    "    byChildren = list(zip(no_children_by_entry,entries_smoking_vs_non,entries_charges))\n",
    "    byChildrenCount = {\n",
    "        \"children\":{\n",
    "            \"yes\":0,\n",
    "            \"no\":0,\n",
    "        },\n",
    "        \"no-children\":{\n",
    "            \"yes\":0,\n",
    "            \"no\":0,\n",
    "        }\n",
    "    }\n",
    "    for entry in byChildren:\n",
    "        if entry[0] > 0:\n",
    "            byChildrenCount[\"children\"][entry[1]] += entry[2]\n",
    "        else:\n",
    "            byChildrenCount[\"no-children\"][entry[1]] += entry[2]\n",
    "    return byChildrenCount\n",
    "\n",
    "def ageRangesSmokingVsNon(entries_smoking_vs_non,ages_by_entry,entries_charges):\n",
    "    byAge = list(zip(ages_by_entry,entries_smoking_vs_non,entries_charges))\n",
    "    byAgeCount = {\n",
    "        \"0 - 19\": { \"yes\": 0, \"no\":0 },\n",
    "        \"20 - 29\": { \"yes\": 0, \"no\":0 },\n",
    "        \"30 - 39\": { \"yes\": 0, \"no\":0 },\n",
    "        \"40 - 49\": { \"yes\": 0, \"no\":0 },\n",
    "        \"50+\": { \"yes\": 0, \"no\":0 }\n",
    "    }\n",
    "    for entry in byAge:\n",
    "        range = \"\"\n",
    "        if(entry[0] > 0 and entry[0] <= 19): range = \"0 - 19\"\n",
    "        elif(entry[0] > 20 and entry[0] <= 29): range = \"20 - 29\"\n",
    "        elif(entry[0] > 30 and entry[0] <= 39): range = \"30 - 39\"\n",
    "        elif(entry[0] > 40 and entry[0] <= 49): range = \"40 - 49\"\n",
    "        else: range = \"50+\"\n",
    "\n",
    "        byAgeCount[range][entry[1]] += entry[2]\n",
    "\n",
    "    return byAgeCount"
   ]
  },
  {
   "cell_type": "code",
   "execution_count": 360,
   "metadata": {},
   "outputs": [],
   "source": [
    "with open('insurance.csv') as insurance_file:\n",
    "    insurance_data = csv.DictReader(insurance_file)\n",
    "    for entry in insurance_data:\n",
    "        # Create a list for each entry for smoking\n",
    "        entries_smoking_vs_non.append(entry[\"smoker\"])\n",
    "        entries_charges.append(float(entry[\"charges\"]))\n",
    "        gender_by_entry.append(entry[\"sex\"])\n",
    "        no_children_by_entry.append(int(entry[\"children\"]))\n",
    "        ages_by_entry.append(int(entry[\"age\"]))"
   ]
  },
  {
   "cell_type": "code",
   "execution_count": 361,
   "metadata": {},
   "outputs": [
    {
     "name": "stdout",
     "output_type": "stream",
     "text": [
      "Males who smoke paid 1072594.1 more then those that don't\n",
      "Females who smoke paid -653000.27 more then those that don't\n",
      "People with children who smoke paid -302741.66 more then those who don't smoke\n",
      "People without children who smoke paid 110443.71 more then those who don't smoke\n",
      "Ages 0 - 19 who smoke paid 431607.06 more then those who didn't\n",
      "Ages 20 - 29 who smoke paid 324691.16 more then those who didn't\n",
      "Ages 30 - 39 who smoke paid 340780.23 more then those who didn't\n",
      "Ages 40 - 49 who smoke paid 73490.07 more then those who didn't\n",
      "Ages 50+ who smoke paid -1362866.46 more then those who didn't\n"
     ]
    }
   ],
   "source": [
    "chargesByGenderSmokingVsNon = genderSmokingVsNon(entries_smoking_vs_non,gender_by_entry,entries_charges)\n",
    "print(\"Males who smoke paid {} more then those that don't\".format(\n",
    "    round(chargesByGenderSmokingVsNon[\"male\"]['yes'] - chargesByGenderSmokingVsNon[\"male\"]['no'],2)\n",
    "))\n",
    "print(\"Females who smoke paid {} more then those that don't\".format(\n",
    "    round(chargesByGenderSmokingVsNon[\"female\"]['yes'] - chargesByGenderSmokingVsNon[\"male\"]['no'],2)\n",
    "))\n",
    "chargesByHavingChildrenSmokingVsNon = withChildrenSmokingVsNon(entries_smoking_vs_non,no_children_by_entry,entries_charges)\n",
    "print(\"People with children who smoke paid {} more then those who don't smoke\".format(\n",
    "    round(chargesByHavingChildrenSmokingVsNon[\"children\"]['yes'] - chargesByHavingChildrenSmokingVsNon[\"children\"]['no'],2)\n",
    "))\n",
    "print(\"People without children who smoke paid {} more then those who don't smoke\".format(\n",
    "    round(chargesByHavingChildrenSmokingVsNon[\"no-children\"]['yes'] - chargesByHavingChildrenSmokingVsNon[\"no-children\"]['no'],2)\n",
    "))\n",
    "chargesByAgeRangeSmokingVsNon = ageRangesSmokingVsNon(entries_smoking_vs_non,ages_by_entry,entries_charges)\n",
    "for key in chargesByAgeRangeSmokingVsNon:\n",
    "    print(\"Ages {} who smoke paid {} more then those who didn't\".format(key,round(chargesByAgeRangeSmokingVsNon[key]['yes'] - chargesByAgeRangeSmokingVsNon[key]['no'],2)))\n"
   ]
  },
  {
   "cell_type": "markdown",
   "metadata": {},
   "source": [
    "# Findings\n",
    "Females who smoke paid less then those who didn't\n",
    "People with children who paid less then those without children\n",
    "People who are older then 50 who smoke paid less then those who didn't"
   ]
  }
 ],
 "metadata": {
  "kernelspec": {
   "display_name": "Python 3",
   "language": "python",
   "name": "python3"
  },
  "language_info": {
   "codemirror_mode": {
    "name": "ipython",
    "version": 3
   },
   "file_extension": ".py",
   "mimetype": "text/x-python",
   "name": "python",
   "nbconvert_exporter": "python",
   "pygments_lexer": "ipython3",
   "version": "3.12.1"
  }
 },
 "nbformat": 4,
 "nbformat_minor": 4
}
